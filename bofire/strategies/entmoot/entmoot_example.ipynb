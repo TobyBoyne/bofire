{
 "cells": [
  {
   "cell_type": "markdown",
   "metadata": {},
   "source": [
    "# Demonstration of the Entmoot API\n",
    "\n",
    "This notebook includes comparisons of the Entmoot strategy to other Bofire \n",
    "strategies."
   ]
  },
  {
   "cell_type": "markdown",
   "metadata": {},
   "source": [
    "## Single objective Bayesian Optimization strategy\n",
    "\n",
    "This section includes a comparison to the Sobo strategy given in the \"Getting \n",
    "Started\" docs. The API is identical, with additional options given to the \n",
    "data model. Note that the EntingStrategy only supports one candidate, as \n",
    "each generated candidate is optimal (so generating multiple would generate \n",
    "duplicates)."
   ]
  },
  {
   "cell_type": "code",
   "execution_count": 1,
   "metadata": {},
   "outputs": [
    {
     "name": "stderr",
     "output_type": "stream",
     "text": [
      "c:\\users\\tobyb\\phd\\bofire\\bofire\\utils\\cheminformatics.py:19: UserWarning: mordred not installed. Mordred molecular descriptors cannot be used.\n",
      "  warnings.warn(\n",
      "c:\\users\\tobyb\\phd\\bofire\\bofire\\surrogates\\xgb.py:12: UserWarning: xgboost not installed, BoFire's `XGBoostSurrogate` cannot be used.\n",
      "  warnings.warn(\"xgboost not installed, BoFire's `XGBoostSurrogate` cannot be used.\")\n"
     ]
    }
   ],
   "source": [
    "from bofire.benchmarks.single import Himmelblau\n",
    "import bofire.strategies.mapper as strategy_mapper\n",
    "\n",
    "benchmark = Himmelblau()\n",
    "\n",
    "samples = benchmark.domain.inputs.sample(10)\n",
    "experiments = benchmark.f(samples, return_complete=True)"
   ]
  },
  {
   "cell_type": "code",
   "execution_count": 3,
   "metadata": {},
   "outputs": [
    {
     "data": {
      "text/html": [
       "<div>\n",
       "<style scoped>\n",
       "    .dataframe tbody tr th:only-of-type {\n",
       "        vertical-align: middle;\n",
       "    }\n",
       "\n",
       "    .dataframe tbody tr th {\n",
       "        vertical-align: top;\n",
       "    }\n",
       "\n",
       "    .dataframe thead th {\n",
       "        text-align: right;\n",
       "    }\n",
       "</style>\n",
       "<table border=\"1\" class=\"dataframe\">\n",
       "  <thead>\n",
       "    <tr style=\"text-align: right;\">\n",
       "      <th></th>\n",
       "      <th>x_1</th>\n",
       "      <th>x_2</th>\n",
       "      <th>y_pred</th>\n",
       "      <th>y_sd</th>\n",
       "      <th>y_des</th>\n",
       "    </tr>\n",
       "  </thead>\n",
       "  <tbody>\n",
       "    <tr>\n",
       "      <th>0</th>\n",
       "      <td>-0.178689</td>\n",
       "      <td>2.418258</td>\n",
       "      <td>39.226887</td>\n",
       "      <td>237.849118</td>\n",
       "      <td>-39.226887</td>\n",
       "    </tr>\n",
       "  </tbody>\n",
       "</table>\n",
       "</div>"
      ],
      "text/plain": [
       "        x_1       x_2     y_pred        y_sd      y_des\n",
       "0 -0.178689  2.418258  39.226887  237.849118 -39.226887"
      ]
     },
     "execution_count": 3,
     "metadata": {},
     "output_type": "execute_result"
    }
   ],
   "source": [
    "from bofire.data_models.strategies.api import SoboStrategy\n",
    "from bofire.data_models.acquisition_functions.api import qNEI\n",
    "\n",
    "sobo_strategy_data_model = SoboStrategy(domain=benchmark.domain, acquisition_function=qNEI())\n",
    "sobo_strategy = strategy_mapper.map(sobo_strategy_data_model)\n",
    "\n",
    "sobo_strategy.tell(experiments=experiments)\n",
    "sobo_strategy.ask(candidate_count=1)"
   ]
  },
  {
   "cell_type": "code",
   "execution_count": 2,
   "metadata": {},
   "outputs": [
    {
     "name": "stderr",
     "output_type": "stream",
     "text": [
      "C:\\Users\\tobyb\\phd\\entmoot\\entmoot\\models\\mean_models\\tree_ensemble.py:23: UserWarning: No 'train_params' for tree ensemble training specified. Switch training to default params!\n",
      "  warnings.warn(\n"
     ]
    },
    {
     "data": {
      "text/html": [
       "<div>\n",
       "<style scoped>\n",
       "    .dataframe tbody tr th:only-of-type {\n",
       "        vertical-align: middle;\n",
       "    }\n",
       "\n",
       "    .dataframe tbody tr th {\n",
       "        vertical-align: top;\n",
       "    }\n",
       "\n",
       "    .dataframe thead th {\n",
       "        text-align: right;\n",
       "    }\n",
       "</style>\n",
       "<table border=\"1\" class=\"dataframe\">\n",
       "  <thead>\n",
       "    <tr style=\"text-align: right;\">\n",
       "      <th></th>\n",
       "      <th>x_1</th>\n",
       "      <th>x_2</th>\n",
       "      <th>y_pred</th>\n",
       "      <th>y_sd</th>\n",
       "    </tr>\n",
       "  </thead>\n",
       "  <tbody>\n",
       "    <tr>\n",
       "      <th>0</th>\n",
       "      <td>0.101473</td>\n",
       "      <td>-6.0</td>\n",
       "      <td>26.755872</td>\n",
       "      <td>0.232471</td>\n",
       "    </tr>\n",
       "  </tbody>\n",
       "</table>\n",
       "</div>"
      ],
      "text/plain": [
       "        x_1  x_2     y_pred      y_sd\n",
       "0  0.101473 -6.0  26.755872  0.232471"
      ]
     },
     "execution_count": 2,
     "metadata": {},
     "output_type": "execute_result"
    }
   ],
   "source": [
    "from bofire.data_models.strategies.api import EntingStrategy\n",
    "\n",
    "enting_params = {\"unc_params\": {\"dist_metric\": \"l1\", \"acq_sense\": \"exploration\"}}\n",
    "solver_params = {\"solver_name\": \"gurobi\"}\n",
    "\n",
    "enting_strategy_data_model = EntingStrategy(domain=benchmark.domain, enting_params=enting_params, solver_params=solver_params)\n",
    "enting_strategy = strategy_mapper.map(enting_strategy_data_model)\n",
    "\n",
    "enting_strategy.tell(experiments=experiments)\n",
    "enting_strategy.ask(candidate_count=1)"
   ]
  }
 ],
 "metadata": {
  "kernelspec": {
   "display_name": "venv",
   "language": "python",
   "name": "python3"
  },
  "language_info": {
   "codemirror_mode": {
    "name": "ipython",
    "version": 3
   },
   "file_extension": ".py",
   "mimetype": "text/x-python",
   "name": "python",
   "nbconvert_exporter": "python",
   "pygments_lexer": "ipython3",
   "version": "3.9.9"
  },
  "orig_nbformat": 4
 },
 "nbformat": 4,
 "nbformat_minor": 2
}
