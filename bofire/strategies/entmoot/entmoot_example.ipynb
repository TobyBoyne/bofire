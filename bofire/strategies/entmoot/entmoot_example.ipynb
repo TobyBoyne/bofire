{
 "cells": [
  {
   "cell_type": "markdown",
   "metadata": {},
   "source": [
    "# Demonstration of the Entmoot API\n",
    "\n",
    "This notebook includes comparisons of the Entmoot strategy to other Bofire \n",
    "strategies."
   ]
  },
  {
   "cell_type": "markdown",
   "metadata": {},
   "source": [
    "## Single objective Bayesian Optimization strategy\n",
    "\n",
    "This section includes a comparison to the Sobo strategy given in the \"Getting \n",
    "Started\" docs. The API is identical, with additional options given to the \n",
    "data model. Note that the EntingStrategy only supports one candidate, as \n",
    "each generated candidate is optimal (so generating multiple would generate \n",
    "duplicates)."
   ]
  },
  {
   "cell_type": "code",
   "execution_count": 1,
   "metadata": {},
   "outputs": [
    {
     "name": "stderr",
     "output_type": "stream",
     "text": [
      "c:\\users\\tobyb\\phd\\bofire\\bofire\\utils\\cheminformatics.py:19: UserWarning: mordred not installed. Mordred molecular descriptors cannot be used.\n",
      "  warnings.warn(\n",
      "c:\\users\\tobyb\\phd\\bofire\\bofire\\surrogates\\xgb.py:12: UserWarning: xgboost not installed, BoFire's `XGBoostSurrogate` cannot be used.\n",
      "  warnings.warn(\"xgboost not installed, BoFire's `XGBoostSurrogate` cannot be used.\")\n"
     ]
    }
   ],
   "source": [
    "from bofire.benchmarks.single import Himmelblau\n",
    "import bofire.strategies.mapper as strategy_mapper\n",
    "\n",
    "benchmark = Himmelblau()\n",
    "\n",
    "samples = benchmark.domain.inputs.sample(10)\n",
    "experiments = benchmark.f(samples, return_complete=True)"
   ]
  },
  {
   "cell_type": "code",
   "execution_count": 9,
   "metadata": {},
   "outputs": [
    {
     "name": "stdout",
     "output_type": "stream",
     "text": [
      "[[-189.72399416]] (1, 1)\n"
     ]
    }
   ],
   "source": [
    "from bofire.data_models.strategies.api import SoboStrategy\n",
    "from bofire.data_models.acquisition_functions.api import qNEI\n",
    "\n",
    "sobo_strategy_data_model = SoboStrategy(domain=benchmark.domain, acquisition_function=qNEI())\n",
    "sobo_strategy = strategy_mapper.map(sobo_strategy_data_model)\n",
    "\n",
    "sobo_strategy.tell(experiments=experiments)\n",
    "cand = sobo_strategy.ask(candidate_count=1)"
   ]
  },
  {
   "cell_type": "code",
   "execution_count": 2,
   "metadata": {},
   "outputs": [
    {
     "name": "stderr",
     "output_type": "stream",
     "text": [
      "C:\\Users\\tobyb\\phd\\entmoot\\entmoot\\models\\mean_models\\tree_ensemble.py:23: UserWarning: No 'train_params' for tree ensemble training specified. Switch training to default params!\n",
      "  warnings.warn(\n"
     ]
    },
    {
     "data": {
      "text/html": [
       "<div>\n",
       "<style scoped>\n",
       "    .dataframe tbody tr th:only-of-type {\n",
       "        vertical-align: middle;\n",
       "    }\n",
       "\n",
       "    .dataframe tbody tr th {\n",
       "        vertical-align: top;\n",
       "    }\n",
       "\n",
       "    .dataframe thead th {\n",
       "        text-align: right;\n",
       "    }\n",
       "</style>\n",
       "<table border=\"1\" class=\"dataframe\">\n",
       "  <thead>\n",
       "    <tr style=\"text-align: right;\">\n",
       "      <th></th>\n",
       "      <th>x_1</th>\n",
       "      <th>x_2</th>\n",
       "      <th>y_pred</th>\n",
       "      <th>y_sd</th>\n",
       "      <th>y_des</th>\n",
       "    </tr>\n",
       "  </thead>\n",
       "  <tbody>\n",
       "    <tr>\n",
       "      <th>0</th>\n",
       "      <td>0.281264</td>\n",
       "      <td>2.7977</td>\n",
       "      <td>69.624567</td>\n",
       "      <td>0.43289</td>\n",
       "      <td>-69.624567</td>\n",
       "    </tr>\n",
       "  </tbody>\n",
       "</table>\n",
       "</div>"
      ],
      "text/plain": [
       "        x_1     x_2     y_pred     y_sd      y_des\n",
       "0  0.281264  2.7977  69.624567  0.43289 -69.624567"
      ]
     },
     "execution_count": 2,
     "metadata": {},
     "output_type": "execute_result"
    }
   ],
   "source": [
    "from bofire.data_models.strategies.api import EntingStrategy\n",
    "\n",
    "enting_params = {\"unc_params\": {\"dist_metric\": \"l1\", \"acq_sense\": \"exploration\"}}\n",
    "solver_params = {\"solver_name\": \"gurobi\"}\n",
    "\n",
    "enting_strategy_data_model = EntingStrategy(domain=benchmark.domain, enting_params=enting_params, solver_params=solver_params)\n",
    "enting_strategy = strategy_mapper.map(enting_strategy_data_model)\n",
    "\n",
    "enting_strategy.tell(experiments=experiments)\n",
    "enting_strategy.ask(candidate_count=1)"
   ]
  },
  {
   "cell_type": "markdown",
   "metadata": {},
   "source": [
    "## Multi Objective BO"
   ]
  },
  {
   "cell_type": "code",
   "execution_count": 3,
   "metadata": {},
   "outputs": [
    {
     "data": {
      "text/html": [
       "<div>\n",
       "<style scoped>\n",
       "    .dataframe tbody tr th:only-of-type {\n",
       "        vertical-align: middle;\n",
       "    }\n",
       "\n",
       "    .dataframe tbody tr th {\n",
       "        vertical-align: top;\n",
       "    }\n",
       "\n",
       "    .dataframe thead th {\n",
       "        text-align: right;\n",
       "    }\n",
       "</style>\n",
       "<table border=\"1\" class=\"dataframe\">\n",
       "  <thead>\n",
       "    <tr style=\"text-align: right;\">\n",
       "      <th></th>\n",
       "      <th>x_0</th>\n",
       "      <th>x_1</th>\n",
       "      <th>f_0</th>\n",
       "      <th>f_1</th>\n",
       "      <th>valid_f_0</th>\n",
       "      <th>valid_f_1</th>\n",
       "    </tr>\n",
       "  </thead>\n",
       "  <tbody>\n",
       "    <tr>\n",
       "      <th>0</th>\n",
       "      <td>0.636348</td>\n",
       "      <td>0.894663</td>\n",
       "      <td>0.624874</td>\n",
       "      <td>0.972271</td>\n",
       "      <td>1</td>\n",
       "      <td>1</td>\n",
       "    </tr>\n",
       "    <tr>\n",
       "      <th>1</th>\n",
       "      <td>0.430807</td>\n",
       "      <td>0.345873</td>\n",
       "      <td>0.798158</td>\n",
       "      <td>0.641107</td>\n",
       "      <td>1</td>\n",
       "      <td>1</td>\n",
       "    </tr>\n",
       "    <tr>\n",
       "      <th>2</th>\n",
       "      <td>0.960130</td>\n",
       "      <td>0.118100</td>\n",
       "      <td>0.071716</td>\n",
       "      <td>1.143601</td>\n",
       "      <td>1</td>\n",
       "      <td>1</td>\n",
       "    </tr>\n",
       "    <tr>\n",
       "      <th>3</th>\n",
       "      <td>0.109329</td>\n",
       "      <td>0.520786</td>\n",
       "      <td>0.985716</td>\n",
       "      <td>0.170965</td>\n",
       "      <td>1</td>\n",
       "      <td>1</td>\n",
       "    </tr>\n",
       "    <tr>\n",
       "      <th>4</th>\n",
       "      <td>0.730343</td>\n",
       "      <td>0.182920</td>\n",
       "      <td>0.452347</td>\n",
       "      <td>1.003280</td>\n",
       "      <td>1</td>\n",
       "      <td>1</td>\n",
       "    </tr>\n",
       "    <tr>\n",
       "      <th>5</th>\n",
       "      <td>0.507933</td>\n",
       "      <td>0.193300</td>\n",
       "      <td>0.763921</td>\n",
       "      <td>0.783201</td>\n",
       "      <td>1</td>\n",
       "      <td>1</td>\n",
       "    </tr>\n",
       "    <tr>\n",
       "      <th>6</th>\n",
       "      <td>0.209371</td>\n",
       "      <td>0.925847</td>\n",
       "      <td>1.118031</td>\n",
       "      <td>0.381554</td>\n",
       "      <td>1</td>\n",
       "      <td>1</td>\n",
       "    </tr>\n",
       "    <tr>\n",
       "      <th>7</th>\n",
       "      <td>0.869036</td>\n",
       "      <td>0.564136</td>\n",
       "      <td>0.205109</td>\n",
       "      <td>0.982942</td>\n",
       "      <td>1</td>\n",
       "      <td>1</td>\n",
       "    </tr>\n",
       "    <tr>\n",
       "      <th>8</th>\n",
       "      <td>0.794086</td>\n",
       "      <td>0.287679</td>\n",
       "      <td>0.332167</td>\n",
       "      <td>0.990887</td>\n",
       "      <td>1</td>\n",
       "      <td>1</td>\n",
       "    </tr>\n",
       "    <tr>\n",
       "      <th>9</th>\n",
       "      <td>0.244912</td>\n",
       "      <td>0.489033</td>\n",
       "      <td>0.927020</td>\n",
       "      <td>0.375332</td>\n",
       "      <td>1</td>\n",
       "      <td>1</td>\n",
       "    </tr>\n",
       "  </tbody>\n",
       "</table>\n",
       "</div>"
      ],
      "text/plain": [
       "        x_0       x_1       f_0       f_1  valid_f_0  valid_f_1\n",
       "0  0.636348  0.894663  0.624874  0.972271          1          1\n",
       "1  0.430807  0.345873  0.798158  0.641107          1          1\n",
       "2  0.960130  0.118100  0.071716  1.143601          1          1\n",
       "3  0.109329  0.520786  0.985716  0.170965          1          1\n",
       "4  0.730343  0.182920  0.452347  1.003280          1          1\n",
       "5  0.507933  0.193300  0.763921  0.783201          1          1\n",
       "6  0.209371  0.925847  1.118031  0.381554          1          1\n",
       "7  0.869036  0.564136  0.205109  0.982942          1          1\n",
       "8  0.794086  0.287679  0.332167  0.990887          1          1\n",
       "9  0.244912  0.489033  0.927020  0.375332          1          1"
      ]
     },
     "execution_count": 3,
     "metadata": {},
     "output_type": "execute_result"
    }
   ],
   "source": [
    "from bofire.benchmarks.multi import DTLZ2\n",
    "import bofire.strategies.mapper as strategy_mapper\n",
    "\n",
    "benchmark = DTLZ2(dim=2, num_objectives=2)\n",
    "\n",
    "samples = benchmark.domain.inputs.sample(10)\n",
    "experiments = benchmark.f(samples, return_complete=True)"
   ]
  },
  {
   "cell_type": "code",
   "execution_count": 10,
   "metadata": {},
   "outputs": [
    {
     "name": "stderr",
     "output_type": "stream",
     "text": [
      "C:\\Users\\tobyb\\phd\\entmoot\\entmoot\\models\\mean_models\\tree_ensemble.py:23: UserWarning: No 'train_params' for tree ensemble training specified. Switch training to default params!\n",
      "  warnings.warn(\n"
     ]
    },
    {
     "data": {
      "text/html": [
       "<div>\n",
       "<style scoped>\n",
       "    .dataframe tbody tr th:only-of-type {\n",
       "        vertical-align: middle;\n",
       "    }\n",
       "\n",
       "    .dataframe tbody tr th {\n",
       "        vertical-align: top;\n",
       "    }\n",
       "\n",
       "    .dataframe thead th {\n",
       "        text-align: right;\n",
       "    }\n",
       "</style>\n",
       "<table border=\"1\" class=\"dataframe\">\n",
       "  <thead>\n",
       "    <tr style=\"text-align: right;\">\n",
       "      <th></th>\n",
       "      <th>x_0</th>\n",
       "      <th>x_1</th>\n",
       "      <th>f_0_pred</th>\n",
       "      <th>f_1_pred</th>\n",
       "      <th>f_0_sd</th>\n",
       "      <th>f_1_sd</th>\n",
       "      <th>f_0_des</th>\n",
       "      <th>f_1_des</th>\n",
       "    </tr>\n",
       "  </thead>\n",
       "  <tbody>\n",
       "    <tr>\n",
       "      <th>0</th>\n",
       "      <td>0.0</td>\n",
       "      <td>0.0</td>\n",
       "      <td>0.90506</td>\n",
       "      <td>0.418819</td>\n",
       "      <td>0.5613</td>\n",
       "      <td>0.5613</td>\n",
       "      <td>-0.90506</td>\n",
       "      <td>-0.418819</td>\n",
       "    </tr>\n",
       "  </tbody>\n",
       "</table>\n",
       "</div>"
      ],
      "text/plain": [
       "   x_0  x_1  f_0_pred  f_1_pred  f_0_sd  f_1_sd  f_0_des   f_1_des\n",
       "0  0.0  0.0   0.90506  0.418819  0.5613  0.5613 -0.90506 -0.418819"
      ]
     },
     "execution_count": 10,
     "metadata": {},
     "output_type": "execute_result"
    }
   ],
   "source": [
    "enting_params = {\"unc_params\": {\"dist_metric\": \"l1\", \"acq_sense\": \"exploration\"}}\n",
    "solver_params = {\"solver_name\": \"gurobi\"}\n",
    "\n",
    "enting_strategy_data_model = EntingStrategy(domain=benchmark.domain, enting_params=enting_params, solver_params=solver_params)\n",
    "enting_strategy = strategy_mapper.map(enting_strategy_data_model)\n",
    "\n",
    "enting_strategy.tell(experiments=experiments)\n",
    "enting_strategy.ask(candidate_count=1)"
   ]
  },
  {
   "cell_type": "markdown",
   "metadata": {},
   "source": [
    "## Maximize single objective"
   ]
  },
  {
   "cell_type": "code",
   "execution_count": 3,
   "metadata": {},
   "outputs": [],
   "source": [
    "from bofire.benchmarks.single import Ackley\n",
    "\n",
    "benchmark = Ackley()\n",
    "\n",
    "samples = benchmark.domain.inputs.sample(10)\n",
    "experiments = benchmark.f(samples, return_complete=True)"
   ]
  },
  {
   "cell_type": "code",
   "execution_count": 6,
   "metadata": {},
   "outputs": [
    {
     "name": "stderr",
     "output_type": "stream",
     "text": [
      "C:\\Users\\tobyb\\phd\\entmoot\\entmoot\\models\\mean_models\\tree_ensemble.py:23: UserWarning: No 'train_params' for tree ensemble training specified. Switch training to default params!\n",
      "  warnings.warn(\n"
     ]
    }
   ],
   "source": [
    "enting_params = {\"unc_params\": {\"dist_metric\": \"l1\", \"acq_sense\": \"exploration\"}}\n",
    "solver_params = {\"solver_name\": \"gurobi\"}\n",
    "\n",
    "enting_strategy_data_model = EntingStrategy(domain=benchmark.domain, enting_params=enting_params, solver_params=solver_params)\n",
    "enting_strategy = strategy_mapper.map(enting_strategy_data_model)\n",
    "\n",
    "enting_strategy.tell(experiments=experiments)\n",
    "cand = enting_strategy.ask(candidate_count=1)\n",
    "cand"
   ]
  },
  {
   "cell_type": "code",
   "execution_count": 5,
   "metadata": {},
   "outputs": [
    {
     "data": {
      "text/html": [
       "<div>\n",
       "<style scoped>\n",
       "    .dataframe tbody tr th:only-of-type {\n",
       "        vertical-align: middle;\n",
       "    }\n",
       "\n",
       "    .dataframe tbody tr th {\n",
       "        vertical-align: top;\n",
       "    }\n",
       "\n",
       "    .dataframe thead th {\n",
       "        text-align: right;\n",
       "    }\n",
       "</style>\n",
       "<table border=\"1\" class=\"dataframe\">\n",
       "  <thead>\n",
       "    <tr style=\"text-align: right;\">\n",
       "      <th></th>\n",
       "      <th>y</th>\n",
       "      <th>valid_y</th>\n",
       "    </tr>\n",
       "  </thead>\n",
       "  <tbody>\n",
       "    <tr>\n",
       "      <th>0</th>\n",
       "      <td>19.812233</td>\n",
       "      <td>1</td>\n",
       "    </tr>\n",
       "  </tbody>\n",
       "</table>\n",
       "</div>"
      ],
      "text/plain": [
       "           y  valid_y\n",
       "0  19.812233        1"
      ]
     },
     "execution_count": 5,
     "metadata": {},
     "output_type": "execute_result"
    }
   ],
   "source": [
    "benchmark.get_optima()"
   ]
  }
 ],
 "metadata": {
  "kernelspec": {
   "display_name": "venv",
   "language": "python",
   "name": "python3"
  },
  "language_info": {
   "codemirror_mode": {
    "name": "ipython",
    "version": 3
   },
   "file_extension": ".py",
   "mimetype": "text/x-python",
   "name": "python",
   "nbconvert_exporter": "python",
   "pygments_lexer": "ipython3",
   "version": "3.9.9"
  },
  "orig_nbformat": 4
 },
 "nbformat": 4,
 "nbformat_minor": 2
}
