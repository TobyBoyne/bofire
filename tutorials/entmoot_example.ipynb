{
 "cells": [
  {
   "cell_type": "markdown",
   "metadata": {},
   "source": [
    "# Demonstration of the Entmoot API\n",
    "\n",
    "This notebook includes comparisons of the Entmoot strategy to other Bofire \n",
    "strategies."
   ]
  },
  {
   "cell_type": "markdown",
   "metadata": {},
   "source": [
    "## Defining model parameters\n",
    "\n",
    "Model parameters to be passed into `EntingStrategy` can be defined in a few ways. \n",
    "Throughout this notebook, they are defined using a dictionary of parameters. \n",
    "However, all of the below are valid. \n",
    "The use of `EntingParams` is encouraged, however it does require more imports to use."
   ]
  },
  {
   "cell_type": "code",
   "execution_count": 1,
   "metadata": {},
   "outputs": [
    {
     "data": {
      "text/plain": [
       "True"
      ]
     },
     "execution_count": 1,
     "metadata": {},
     "output_type": "execute_result"
    }
   ],
   "source": [
    "from entmoot.models.model_params import EntingParams, UncParams, TreeTrainParams, TrainParams\n",
    "\n",
    "# all of these are valid to pass into `EntingStrategy(enting_params=params)`\n",
    "\n",
    "# as a dictionary\n",
    "params0 = {\"unc_params\": {\"dist_metric\": \"l1\", \"acq_sense\": \"exploration\"}}\n",
    "# populate EntingParams with dictionary unpacking\n",
    "params1 = EntingParams(**params0)\n",
    "# use objects directly\n",
    "params2 = EntingParams(\n",
    "    unc_params=UncParams(\n",
    "        dist_metric=\"l1\",\n",
    "        acq_sense=\"exploration\"\n",
    "    )\n",
    ")\n",
    "# explictly create all dataclass instances\n",
    "params3 = EntingParams(\n",
    "    unc_params=UncParams(\n",
    "        dist_metric=\"l1\",\n",
    "        acq_sense=\"exploration\"\n",
    "    ),\n",
    "    tree_train_params=TreeTrainParams(\n",
    "        train_params=TrainParams()\n",
    "    )\n",
    ")\n",
    "\n",
    "params1 == params2 == params3"
   ]
  },
  {
   "cell_type": "markdown",
   "metadata": {},
   "source": [
    "## Single objective Bayesian Optimization strategy\n",
    "\n",
    "This section includes a comparison to the Sobo strategy given in the \"Getting \n",
    "Started\" docs. The API is identical, with additional options given to the \n",
    "data model. Note that the EntingStrategy only supports one candidate, as \n",
    "each generated candidate is optimal (so generating multiple would generate \n",
    "duplicates)."
   ]
  },
  {
   "cell_type": "code",
   "execution_count": 2,
   "metadata": {},
   "outputs": [
    {
     "name": "stderr",
     "output_type": "stream",
     "text": [
      "c:\\users\\tobyb\\phd\\bofire\\bofire\\utils\\cheminformatics.py:19: UserWarning: mordred not installed. Mordred molecular descriptors cannot be used.\n",
      "  warnings.warn(\n",
      "c:\\users\\tobyb\\phd\\bofire\\bofire\\surrogates\\xgb.py:12: UserWarning: xgboost not installed, BoFire's `XGBoostSurrogate` cannot be used.\n",
      "  warnings.warn(\"xgboost not installed, BoFire's `XGBoostSurrogate` cannot be used.\")\n"
     ]
    }
   ],
   "source": [
    "from bofire.benchmarks.single import Himmelblau\n",
    "import bofire.strategies.mapper as strategy_mapper\n",
    "\n",
    "benchmark = Himmelblau()\n",
    "\n",
    "samples = benchmark.domain.inputs.sample(10)\n",
    "experiments = benchmark.f(samples, return_complete=True)"
   ]
  },
  {
   "cell_type": "code",
   "execution_count": 3,
   "metadata": {},
   "outputs": [
    {
     "data": {
      "text/html": [
       "<div>\n",
       "<style scoped>\n",
       "    .dataframe tbody tr th:only-of-type {\n",
       "        vertical-align: middle;\n",
       "    }\n",
       "\n",
       "    .dataframe tbody tr th {\n",
       "        vertical-align: top;\n",
       "    }\n",
       "\n",
       "    .dataframe thead th {\n",
       "        text-align: right;\n",
       "    }\n",
       "</style>\n",
       "<table border=\"1\" class=\"dataframe\">\n",
       "  <thead>\n",
       "    <tr style=\"text-align: right;\">\n",
       "      <th></th>\n",
       "      <th>x_1</th>\n",
       "      <th>x_2</th>\n",
       "      <th>y_pred</th>\n",
       "      <th>y_sd</th>\n",
       "      <th>y_des</th>\n",
       "    </tr>\n",
       "  </thead>\n",
       "  <tbody>\n",
       "    <tr>\n",
       "      <th>0</th>\n",
       "      <td>-0.101251</td>\n",
       "      <td>0.459799</td>\n",
       "      <td>19.605878</td>\n",
       "      <td>329.566771</td>\n",
       "      <td>-19.605878</td>\n",
       "    </tr>\n",
       "    <tr>\n",
       "      <th>1</th>\n",
       "      <td>-6.000000</td>\n",
       "      <td>-3.201815</td>\n",
       "      <td>28.583902</td>\n",
       "      <td>237.872201</td>\n",
       "      <td>-28.583902</td>\n",
       "    </tr>\n",
       "  </tbody>\n",
       "</table>\n",
       "</div>"
      ],
      "text/plain": [
       "        x_1       x_2     y_pred        y_sd      y_des\n",
       "0 -0.101251  0.459799  19.605878  329.566771 -19.605878\n",
       "1 -6.000000 -3.201815  28.583902  237.872201 -28.583902"
      ]
     },
     "execution_count": 3,
     "metadata": {},
     "output_type": "execute_result"
    }
   ],
   "source": [
    "from bofire.data_models.strategies.api import SoboStrategy\n",
    "from bofire.data_models.acquisition_functions.api import qNEI\n",
    "\n",
    "sobo_strategy_data_model = SoboStrategy(domain=benchmark.domain, acquisition_function=qNEI())\n",
    "sobo_strategy = strategy_mapper.map(sobo_strategy_data_model)\n",
    "\n",
    "sobo_strategy.tell(experiments=experiments)\n",
    "sobo_strategy.ask(candidate_count=2)\n"
   ]
  },
  {
   "cell_type": "code",
   "execution_count": 4,
   "metadata": {},
   "outputs": [
    {
     "data": {
      "text/html": [
       "<div>\n",
       "<style scoped>\n",
       "    .dataframe tbody tr th:only-of-type {\n",
       "        vertical-align: middle;\n",
       "    }\n",
       "\n",
       "    .dataframe tbody tr th {\n",
       "        vertical-align: top;\n",
       "    }\n",
       "\n",
       "    .dataframe thead th {\n",
       "        text-align: right;\n",
       "    }\n",
       "</style>\n",
       "<table border=\"1\" class=\"dataframe\">\n",
       "  <thead>\n",
       "    <tr style=\"text-align: right;\">\n",
       "      <th></th>\n",
       "      <th>x_1</th>\n",
       "      <th>x_2</th>\n",
       "      <th>y_pred</th>\n",
       "      <th>y_sd</th>\n",
       "      <th>y_des</th>\n",
       "    </tr>\n",
       "  </thead>\n",
       "  <tbody>\n",
       "    <tr>\n",
       "      <th>0</th>\n",
       "      <td>-6.0000</td>\n",
       "      <td>-6.000000</td>\n",
       "      <td>66.126943</td>\n",
       "      <td>0.370573</td>\n",
       "      <td>-66.126943</td>\n",
       "    </tr>\n",
       "    <tr>\n",
       "      <th>0</th>\n",
       "      <td>-4.7772</td>\n",
       "      <td>-5.574912</td>\n",
       "      <td>70.899094</td>\n",
       "      <td>0.262034</td>\n",
       "      <td>-70.899094</td>\n",
       "    </tr>\n",
       "  </tbody>\n",
       "</table>\n",
       "</div>"
      ],
      "text/plain": [
       "      x_1       x_2     y_pred      y_sd      y_des\n",
       "0 -6.0000 -6.000000  66.126943  0.370573 -66.126943\n",
       "0 -4.7772 -5.574912  70.899094  0.262034 -70.899094"
      ]
     },
     "execution_count": 4,
     "metadata": {},
     "output_type": "execute_result"
    }
   ],
   "source": [
    "from bofire.data_models.strategies.api import EntingStrategy\n",
    "\n",
    "enting_params = {\"unc_params\": {\"dist_metric\": \"l1\", \"acq_sense\": \"exploration\"}}\n",
    "solver_params = {\"solver_name\": \"gurobi\"}\n",
    "\n",
    "enting_strategy_data_model = EntingStrategy(domain=benchmark.domain, enting_params=enting_params, solver_params=solver_params,\n",
    "                                            learn_from_candidates_coeff=10.0)\n",
    "enting_strategy = strategy_mapper.map(enting_strategy_data_model)\n",
    "\n",
    "enting_strategy.tell(experiments=experiments)\n",
    "enting_strategy.ask(candidate_count=2)"
   ]
  },
  {
   "cell_type": "markdown",
   "metadata": {},
   "source": [
    "When `candidate_count > 1`, the strategy will fit to each candidate in order to produce the next candidate. This means that sequential calls to `EntingStrategy.ask()` will tend to be further from the ground truth."
   ]
  },
  {
   "cell_type": "code",
   "execution_count": 5,
   "metadata": {},
   "outputs": [
    {
     "data": {
      "text/html": [
       "<div>\n",
       "<style scoped>\n",
       "    .dataframe tbody tr th:only-of-type {\n",
       "        vertical-align: middle;\n",
       "    }\n",
       "\n",
       "    .dataframe tbody tr th {\n",
       "        vertical-align: top;\n",
       "    }\n",
       "\n",
       "    .dataframe thead th {\n",
       "        text-align: right;\n",
       "    }\n",
       "</style>\n",
       "<table border=\"1\" class=\"dataframe\">\n",
       "  <thead>\n",
       "    <tr style=\"text-align: right;\">\n",
       "      <th></th>\n",
       "      <th>x_1</th>\n",
       "      <th>x_2</th>\n",
       "      <th>y_pred</th>\n",
       "      <th>y_sd</th>\n",
       "      <th>y_des</th>\n",
       "    </tr>\n",
       "  </thead>\n",
       "  <tbody>\n",
       "    <tr>\n",
       "      <th>0</th>\n",
       "      <td>-6.000000</td>\n",
       "      <td>-3.375590</td>\n",
       "      <td>-27.149744</td>\n",
       "      <td>0.321733</td>\n",
       "      <td>27.149744</td>\n",
       "    </tr>\n",
       "    <tr>\n",
       "      <th>0</th>\n",
       "      <td>-3.455760</td>\n",
       "      <td>-1.769781</td>\n",
       "      <td>178.232196</td>\n",
       "      <td>0.380717</td>\n",
       "      <td>-178.232196</td>\n",
       "    </tr>\n",
       "    <tr>\n",
       "      <th>0</th>\n",
       "      <td>-4.859750</td>\n",
       "      <td>-2.469790</td>\n",
       "      <td>-0.359267</td>\n",
       "      <td>0.291980</td>\n",
       "      <td>0.359267</td>\n",
       "    </tr>\n",
       "    <tr>\n",
       "      <th>0</th>\n",
       "      <td>-4.640611</td>\n",
       "      <td>-3.375569</td>\n",
       "      <td>-48.866791</td>\n",
       "      <td>0.216498</td>\n",
       "      <td>48.866791</td>\n",
       "    </tr>\n",
       "    <tr>\n",
       "      <th>0</th>\n",
       "      <td>-2.972560</td>\n",
       "      <td>-3.272680</td>\n",
       "      <td>157.676060</td>\n",
       "      <td>0.271642</td>\n",
       "      <td>-157.676060</td>\n",
       "    </tr>\n",
       "  </tbody>\n",
       "</table>\n",
       "</div>"
      ],
      "text/plain": [
       "        x_1       x_2      y_pred      y_sd       y_des\n",
       "0 -6.000000 -3.375590  -27.149744  0.321733   27.149744\n",
       "0 -3.455760 -1.769781  178.232196  0.380717 -178.232196\n",
       "0 -4.859750 -2.469790   -0.359267  0.291980    0.359267\n",
       "0 -4.640611 -3.375569  -48.866791  0.216498   48.866791\n",
       "0 -2.972560 -3.272680  157.676060  0.271642 -157.676060"
      ]
     },
     "execution_count": 5,
     "metadata": {},
     "output_type": "execute_result"
    }
   ],
   "source": [
    "enting_strategy.ask(candidate_count=5)"
   ]
  },
  {
   "cell_type": "markdown",
   "metadata": {},
   "source": [
    "## Multi Objective BO"
   ]
  },
  {
   "cell_type": "code",
   "execution_count": 6,
   "metadata": {},
   "outputs": [],
   "source": [
    "from bofire.benchmarks.multi import DTLZ2\n",
    "import bofire.strategies.mapper as strategy_mapper\n",
    "\n",
    "benchmark = DTLZ2(dim=2, num_objectives=2)\n",
    "\n",
    "samples = benchmark.domain.inputs.sample(10)\n",
    "experiments = benchmark.f(samples, return_complete=True)"
   ]
  },
  {
   "cell_type": "code",
   "execution_count": 7,
   "metadata": {},
   "outputs": [
    {
     "data": {
      "text/html": [
       "<div>\n",
       "<style scoped>\n",
       "    .dataframe tbody tr th:only-of-type {\n",
       "        vertical-align: middle;\n",
       "    }\n",
       "\n",
       "    .dataframe tbody tr th {\n",
       "        vertical-align: top;\n",
       "    }\n",
       "\n",
       "    .dataframe thead th {\n",
       "        text-align: right;\n",
       "    }\n",
       "</style>\n",
       "<table border=\"1\" class=\"dataframe\">\n",
       "  <thead>\n",
       "    <tr style=\"text-align: right;\">\n",
       "      <th></th>\n",
       "      <th>x_0</th>\n",
       "      <th>x_1</th>\n",
       "      <th>f_0_pred</th>\n",
       "      <th>f_1_pred</th>\n",
       "      <th>f_0_sd</th>\n",
       "      <th>f_1_sd</th>\n",
       "      <th>f_0_des</th>\n",
       "      <th>f_1_des</th>\n",
       "    </tr>\n",
       "  </thead>\n",
       "  <tbody>\n",
       "    <tr>\n",
       "      <th>0</th>\n",
       "      <td>1.0</td>\n",
       "      <td>1.0</td>\n",
       "      <td>0.201118</td>\n",
       "      <td>0.736655</td>\n",
       "      <td>0.490467</td>\n",
       "      <td>0.490467</td>\n",
       "      <td>-0.201118</td>\n",
       "      <td>-0.736655</td>\n",
       "    </tr>\n",
       "  </tbody>\n",
       "</table>\n",
       "</div>"
      ],
      "text/plain": [
       "   x_0  x_1  f_0_pred  f_1_pred    f_0_sd    f_1_sd   f_0_des   f_1_des\n",
       "0  1.0  1.0  0.201118  0.736655  0.490467  0.490467 -0.201118 -0.736655"
      ]
     },
     "execution_count": 7,
     "metadata": {},
     "output_type": "execute_result"
    }
   ],
   "source": [
    "enting_params = {\"unc_params\": {\"dist_metric\": \"l1\", \"acq_sense\": \"exploration\"}}\n",
    "solver_params = {\"solver_name\": \"gurobi\"}\n",
    "\n",
    "enting_strategy_data_model = EntingStrategy(domain=benchmark.domain, enting_params=enting_params, solver_params=solver_params)\n",
    "enting_strategy = strategy_mapper.map(enting_strategy_data_model)\n",
    "\n",
    "enting_strategy.tell(experiments=experiments)\n",
    "enting_strategy.ask(candidate_count=1)"
   ]
  },
  {
   "cell_type": "markdown",
   "metadata": {},
   "source": [
    "## Maximize single objective"
   ]
  },
  {
   "cell_type": "code",
   "execution_count": 8,
   "metadata": {},
   "outputs": [],
   "source": [
    "from bofire.benchmarks.single import Ackley\n",
    "\n",
    "benchmark = Ackley()\n",
    "\n",
    "samples = benchmark.domain.inputs.sample(10)\n",
    "experiments = benchmark.f(samples, return_complete=True)"
   ]
  },
  {
   "cell_type": "code",
   "execution_count": 9,
   "metadata": {},
   "outputs": [
    {
     "data": {
      "text/html": [
       "<div>\n",
       "<style scoped>\n",
       "    .dataframe tbody tr th:only-of-type {\n",
       "        vertical-align: middle;\n",
       "    }\n",
       "\n",
       "    .dataframe tbody tr th {\n",
       "        vertical-align: top;\n",
       "    }\n",
       "\n",
       "    .dataframe thead th {\n",
       "        text-align: right;\n",
       "    }\n",
       "</style>\n",
       "<table border=\"1\" class=\"dataframe\">\n",
       "  <thead>\n",
       "    <tr style=\"text-align: right;\">\n",
       "      <th></th>\n",
       "      <th>x_1</th>\n",
       "      <th>x_2</th>\n",
       "      <th>y_pred</th>\n",
       "      <th>y_sd</th>\n",
       "      <th>y_des</th>\n",
       "    </tr>\n",
       "  </thead>\n",
       "  <tbody>\n",
       "    <tr>\n",
       "      <th>0</th>\n",
       "      <td>-19.223244</td>\n",
       "      <td>32.768</td>\n",
       "      <td>19.7255</td>\n",
       "      <td>0.525245</td>\n",
       "      <td>19.7255</td>\n",
       "    </tr>\n",
       "  </tbody>\n",
       "</table>\n",
       "</div>"
      ],
      "text/plain": [
       "         x_1     x_2   y_pred      y_sd    y_des\n",
       "0 -19.223244  32.768  19.7255  0.525245  19.7255"
      ]
     },
     "execution_count": 9,
     "metadata": {},
     "output_type": "execute_result"
    }
   ],
   "source": [
    "enting_params = {\"unc_params\": {\"dist_metric\": \"l1\", \"acq_sense\": \"exploration\"}}\n",
    "solver_params = {\"solver_name\": \"gurobi\"}\n",
    "\n",
    "enting_strategy_data_model = EntingStrategy(domain=benchmark.domain, enting_params=enting_params, solver_params=solver_params)\n",
    "enting_strategy = strategy_mapper.map(enting_strategy_data_model)\n",
    "\n",
    "enting_strategy.tell(experiments=experiments)\n",
    "enting_strategy.ask(candidate_count=1)"
   ]
  },
  {
   "cell_type": "markdown",
   "metadata": {},
   "source": [
    "## Compare domain to problem config\n",
    "\n",
    "BoFire defines its problems using Domains, whereas ENTMOOT uses ProblemConfigs. \n",
    "This demonstrates the conversion from Domain to ProblemConfig, using the multi \n",
    "objective categorical problem defined in the ENTMOOT benchmark."
   ]
  },
  {
   "cell_type": "code",
   "execution_count": 10,
   "metadata": {},
   "outputs": [],
   "source": [
    "from bofire.data_models.domain.api import Domain, Inputs, Outputs\n",
    "from bofire.data_models.features.api import (\n",
    "    CategoricalInput,\n",
    "    ContinuousInput,\n",
    "    DiscreteInput,\n",
    "    ContinuousOutput,\n",
    ")\n",
    "from bofire.data_models.objectives.api import MinimizeObjective\n",
    "\n",
    "\n",
    "def build_multi_obj_categorical_problem(n_obj: int = 2, no_cat=False) -> Domain:\n",
    "    \"\"\"\n",
    "    Builds a small test example which is used in Entmoot tests.\n",
    "    \"\"\"\n",
    "\n",
    "    cat_feat = (\n",
    "        []\n",
    "        if no_cat\n",
    "        else [CategoricalInput(key=\"x0\", categories=(\"blue\", \"orange\", \"gray\"))]\n",
    "    )\n",
    "    input_features = Inputs(\n",
    "        features=cat_feat\n",
    "        + [\n",
    "            DiscreteInput(key=\"x1\", values=[5, 6]),\n",
    "            DiscreteInput(key=\"x2\", values=[0, 1]),  # binary\n",
    "            ContinuousInput(key=\"x3\", bounds=[5.0, 6.0]),\n",
    "            ContinuousInput(key=\"x4\", bounds=[4.6, 6.0]),\n",
    "            ContinuousInput(key=\"x5\", bounds=[5.0, 6.0]),\n",
    "        ]\n",
    "    )\n",
    "\n",
    "    output_features = Outputs(\n",
    "        features=[\n",
    "            ContinuousOutput(\n",
    "                key=f\"y{i}\", objective=MinimizeObjective(w=1.0, bounds=[0.0, 1.0])\n",
    "            )\n",
    "            for i in range(n_obj)\n",
    "        ]\n",
    "    )\n",
    "\n",
    "    domain = Domain(inputs=input_features, outputs=output_features)\n",
    "\n",
    "    return domain\n"
   ]
  },
  {
   "cell_type": "code",
   "execution_count": 11,
   "metadata": {},
   "outputs": [
    {
     "name": "stdout",
     "output_type": "stream",
     "text": [
      "\n",
      "PROBLEM SUMMARY\n",
      "---------------\n",
      "features:\n",
      "x0 :: Categorical :: ('blue', 'orange', 'gray') \n",
      "x1 :: Integer :: (5, 6) \n",
      "x2 :: Binary :: (0, 1) \n",
      "x3 :: Real :: (5.0, 6.0) \n",
      "x4 :: Real :: (4.6, 6.0) \n",
      "x5 :: Real :: (5.0, 6.0) \n",
      "\n",
      "objectives:\n",
      "y0 :: MinObjective\n",
      "y1 :: MinObjective \n",
      " \n",
      "PROBLEM SUMMARY\n",
      "---------------\n",
      "features:\n",
      "feat_0 :: Categorical :: ('blue', 'orange', 'gray') \n",
      "feat_1 :: Integer :: (5, 6) \n",
      "feat_2 :: Binary :: (0, 1) \n",
      "feat_3 :: Real :: (5.0, 6.0) \n",
      "feat_4 :: Real :: (4.6, 6.0) \n",
      "feat_5 :: Real :: (5.0, 6.0) \n",
      "\n",
      "objectives:\n",
      "obj_0 :: MinObjective\n",
      "obj_1 :: MinObjective\n"
     ]
    }
   ],
   "source": [
    "from bofire.utils.entmoot import domain_to_problem_config\n",
    "import entmoot.benchmarks as ent\n",
    "from entmoot.problem_config import ProblemConfig\n",
    "\n",
    "domain = build_multi_obj_categorical_problem()\n",
    "problem_config, _ = domain_to_problem_config(domain)\n",
    "problem_config_ent = ProblemConfig()\n",
    "ent.build_multi_obj_categorical_problem(problem_config_ent)\n",
    "\n",
    "print(problem_config, \"\\n\", problem_config_ent)"
   ]
  }
 ],
 "metadata": {
  "kernelspec": {
   "display_name": "venv",
   "language": "python",
   "name": "python3"
  },
  "language_info": {
   "codemirror_mode": {
    "name": "ipython",
    "version": 3
   },
   "file_extension": ".py",
   "mimetype": "text/x-python",
   "name": "python",
   "nbconvert_exporter": "python",
   "pygments_lexer": "ipython3",
   "version": "3.9.9"
  },
  "orig_nbformat": 4
 },
 "nbformat": 4,
 "nbformat_minor": 2
}
