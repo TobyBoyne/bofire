{
 "cells": [
  {
   "cell_type": "markdown",
   "metadata": {},
   "source": [
    "# Demonstration of the Entmoot API\n",
    "\n",
    "This notebook includes comparisons of the Entmoot strategy to other Bofire \n",
    "strategies."
   ]
  },
  {
   "cell_type": "markdown",
   "metadata": {},
   "source": [
    "## Single objective Bayesian Optimization strategy\n",
    "\n",
    "This section includes a comparison to the Sobo strategy given in the \"Getting \n",
    "Started\" docs. The API is identical, with additional options given to the \n",
    "data model."
   ]
  },
  {
   "cell_type": "code",
   "execution_count": null,
   "metadata": {},
   "outputs": [],
   "source": [
    "from bofire.benchmarks.single import Himmelblau\n",
    "import bofire.strategies.mapper as strategy_mapper\n",
    "\n",
    "benchmark = Himmelblau()\n",
    "\n",
    "samples = benchmark.domain.inputs.sample(10)\n",
    "experiments = benchmark.f(samples, return_complete=True)"
   ]
  },
  {
   "cell_type": "code",
   "execution_count": null,
   "metadata": {},
   "outputs": [],
   "source": [
    "from bofire.data_models.strategies.api import EntingStrategy\n",
    "\n",
    "enting_strategy_data_model = EntingStrategy(\n",
    "    domain=benchmark.domain,\n",
    "    dist_metric=\"l1\",\n",
    "    acq_sense=\"exploration\",\n",
    "    solver_name=\"gurobi\",\n",
    "    solver_verbose=False,\n",
    "    kappa_fantasy=1.96\n",
    ")\n",
    "\n",
    "enting_strategy = strategy_mapper.map(enting_strategy_data_model)\n",
    "\n",
    "enting_strategy.tell(experiments=experiments)\n",
    "enting_strategy.ask(candidate_count=1)"
   ]
  },
  {
   "cell_type": "markdown",
   "metadata": {},
   "source": [
    "When `candidate_count > 1`, the strategy will fit to each candidate in order to produce the next candidate. This means that sequential calls to `EntingStrategy.ask()` will tend to be further from the ground truth.\n",
    "\n",
    "If you are using subsequent calls to `EntingStrategy.ask()`, then you must add the candidates to the pending list of candidates. Note that this is not advised - it is much faster to generate candidates in a single batch."
   ]
  },
  {
   "cell_type": "code",
   "execution_count": null,
   "metadata": {},
   "outputs": [],
   "source": [
    "a = enting_strategy.ask(candidate_count=5)\n",
    "b = enting_strategy.ask(candidate_count=5, add_pending=True)\n",
    "c = enting_strategy.ask(candidate_count=5)\n",
    "\n",
    "assert a.equals(b)\n",
    "assert not b.equals(c)"
   ]
  },
  {
   "cell_type": "markdown",
   "metadata": {},
   "source": [
    "## Multi Objective BO"
   ]
  },
  {
   "cell_type": "code",
   "execution_count": null,
   "metadata": {},
   "outputs": [],
   "source": [
    "from bofire.benchmarks.multi import DTLZ2\n",
    "import bofire.strategies.mapper as strategy_mapper\n",
    "\n",
    "benchmark = DTLZ2(dim=2, num_objectives=2)\n",
    "\n",
    "samples = benchmark.domain.inputs.sample(10)\n",
    "experiments = benchmark.f(samples, return_complete=True)"
   ]
  },
  {
   "cell_type": "code",
   "execution_count": null,
   "metadata": {},
   "outputs": [],
   "source": [
    "enting_strategy_data_model = EntingStrategy(\n",
    "    domain=benchmark.domain,\n",
    "    dist_metric=\"l1\",\n",
    "    acq_sense=\"exploration\",\n",
    "    solver_name=\"gurobi\",\n",
    "    solver_verbose=False,\n",
    "    kappa_fantasy=1.96\n",
    ")\n",
    "\n",
    "enting_strategy = strategy_mapper.map(enting_strategy_data_model)\n",
    "\n",
    "enting_strategy.tell(experiments=experiments)\n",
    "enting_strategy.ask(candidate_count=1)"
   ]
  },
  {
   "cell_type": "markdown",
   "metadata": {},
   "source": [
    "## Maximize single objective"
   ]
  },
  {
   "cell_type": "code",
   "execution_count": null,
   "metadata": {},
   "outputs": [],
   "source": [
    "from bofire.benchmarks.single import Ackley\n",
    "\n",
    "benchmark = Ackley()\n",
    "\n",
    "samples = benchmark.domain.inputs.sample(10)\n",
    "experiments = benchmark.f(samples, return_complete=True)"
   ]
  },
  {
   "cell_type": "code",
   "execution_count": null,
   "metadata": {},
   "outputs": [],
   "source": [
    "enting_strategy_data_model = EntingStrategy(\n",
    "    domain=benchmark.domain,\n",
    "    dist_metric=\"l1\",\n",
    "    acq_sense=\"exploration\",\n",
    "    solver_name=\"gurobi\",\n",
    "    solver_verbose=False,\n",
    "    kappa_fantasy=1.96\n",
    ")\n",
    "enting_strategy = strategy_mapper.map(enting_strategy_data_model)\n",
    "\n",
    "enting_strategy.tell(experiments=experiments)\n",
    "enting_strategy.ask(candidate_count=1)"
   ]
  },
  {
   "cell_type": "markdown",
   "metadata": {},
   "source": [
    "## Compare domain to problem config\n",
    "\n",
    "BoFire defines its problems using Domains, whereas ENTMOOT uses ProblemConfigs. \n",
    "This demonstrates the conversion from Domain to ProblemConfig, using the multi \n",
    "objective categorical problem defined in the ENTMOOT benchmark."
   ]
  },
  {
   "cell_type": "code",
   "execution_count": null,
   "metadata": {},
   "outputs": [],
   "source": [
    "from bofire.data_models.domain.api import Domain, Inputs, Outputs\n",
    "from bofire.data_models.features.api import (\n",
    "    CategoricalInput,\n",
    "    ContinuousInput,\n",
    "    DiscreteInput,\n",
    "    ContinuousOutput,\n",
    ")\n",
    "from bofire.data_models.objectives.api import MinimizeObjective\n",
    "\n",
    "\n",
    "def build_multi_obj_categorical_problem(n_obj: int = 2, no_cat=False) -> Domain:\n",
    "    \"\"\"\n",
    "    Builds a small test example which is used in Entmoot tests.\n",
    "    \"\"\"\n",
    "\n",
    "    cat_feat = (\n",
    "        []\n",
    "        if no_cat\n",
    "        else [CategoricalInput(key=\"x0\", categories=(\"blue\", \"orange\", \"gray\"))]\n",
    "    )\n",
    "    input_features = Inputs(\n",
    "        features=cat_feat\n",
    "        + [\n",
    "            DiscreteInput(key=\"x1\", values=[5, 6]),\n",
    "            DiscreteInput(key=\"x2\", values=[0, 1]),  # binary\n",
    "            ContinuousInput(key=\"x3\", bounds=[5.0, 6.0]),\n",
    "            ContinuousInput(key=\"x4\", bounds=[4.6, 6.0]),\n",
    "            ContinuousInput(key=\"x5\", bounds=[5.0, 6.0]),\n",
    "        ]\n",
    "    )\n",
    "\n",
    "    output_features = Outputs(\n",
    "        features=[\n",
    "            ContinuousOutput(\n",
    "                key=f\"y{i}\", objective=MinimizeObjective(w=1.0, bounds=[0.0, 1.0])\n",
    "            )\n",
    "            for i in range(n_obj)\n",
    "        ]\n",
    "    )\n",
    "\n",
    "    domain = Domain(inputs=input_features, outputs=output_features)\n",
    "\n",
    "    return domain\n"
   ]
  },
  {
   "cell_type": "code",
   "execution_count": null,
   "metadata": {},
   "outputs": [],
   "source": [
    "from bofire.strategies.predictives.enting import domain_to_problem_config\n",
    "import entmoot.benchmarks as ent\n",
    "from entmoot.problem_config import ProblemConfig\n",
    "\n",
    "domain = build_multi_obj_categorical_problem()\n",
    "problem_config, _ = domain_to_problem_config(domain)\n",
    "problem_config_ent = ProblemConfig()\n",
    "ent.build_multi_obj_categorical_problem(problem_config_ent)\n",
    "\n",
    "print(problem_config, \"\\n\", problem_config_ent)"
   ]
  }
 ],
 "metadata": {
  "kernelspec": {
   "display_name": "venv",
   "language": "python",
   "name": "python3"
  },
  "language_info": {
   "codemirror_mode": {
    "name": "ipython",
    "version": 3
   },
   "file_extension": ".py",
   "mimetype": "text/x-python",
   "name": "python",
   "nbconvert_exporter": "python",
   "pygments_lexer": "ipython3",
   "version": "3.10.11"
  },
  "orig_nbformat": 4
 },
 "nbformat": 4,
 "nbformat_minor": 2
}
