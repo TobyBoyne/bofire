{
 "cells": [
  {
   "cell_type": "markdown",
   "metadata": {},
   "source": [
    "# Demonstration of the Entmoot API\n",
    "\n",
    "This notebook includes comparisons of the Entmoot strategy to other Bofire \n",
    "strategies."
   ]
  },
  {
   "cell_type": "markdown",
   "metadata": {},
   "source": [
    "## Single objective Bayesian Optimization strategy\n",
    "\n",
    "This section includes a comparison to the Sobo strategy given in the \"Getting \n",
    "Started\" docs. The API is identical, with additional options given to the \n",
    "data model."
   ]
  },
  {
   "cell_type": "code",
   "execution_count": null,
   "metadata": {},
   "outputs": [],
   "source": [
    "from bofire.benchmarks.single import Himmelblau\n",
    "import bofire.strategies.mapper as strategy_mapper\n",
    "\n",
    "benchmark = Himmelblau()\n",
    "\n",
    "samples = benchmark.domain.inputs.sample(10)\n",
    "experiments = benchmark.f(samples, return_complete=True)"
   ]
  },
  {
   "cell_type": "code",
   "execution_count": null,
   "metadata": {},
   "outputs": [],
   "source": [
    "from bofire.data_models.strategies.api import EntingStrategy\n",
    "\n",
    "enting_strategy_data_model = EntingStrategy(\n",
    "    domain=benchmark.domain,\n",
    "    dist_metric=\"l1\",\n",
    "    acq_sense=\"exploration\",\n",
    "    solver_name=\"gurobi\",\n",
    "    solver_verbose=False,\n",
    "    kappa_fantasy=1.96\n",
    ")\n",
    "\n",
    "enting_strategy = strategy_mapper.map(enting_strategy_data_model)\n",
    "\n",
    "enting_strategy.tell(experiments=experiments)\n",
    "enting_strategy.ask(candidate_count=1)"
   ]
  },
  {
   "cell_type": "markdown",
   "metadata": {},
   "source": [
    "When `candidate_count > 1`, the strategy will fit to each candidate in order to produce the next candidate. This means that sequential calls to `EntingStrategy.ask()` will tend to be further from the ground truth.\n",
    "\n",
    "If you are using subsequent calls to `EntingStrategy.ask()`, then you must add the candidates to the pending list of candidates. Note that this is not advised - it is much faster to generate candidates in a single batch."
   ]
  },
  {
   "cell_type": "code",
   "execution_count": null,
   "metadata": {},
   "outputs": [],
   "source": [
    "a = enting_strategy.ask(candidate_count=5)\n",
    "b = enting_strategy.ask(candidate_count=5, add_pending=True)\n",
    "c = enting_strategy.ask(candidate_count=5)\n",
    "\n",
    "assert a.equals(b)\n",
    "assert not b.equals(c)"
   ]
  },
  {
   "cell_type": "markdown",
   "metadata": {},
   "source": [
    "## Multi Objective BO"
   ]
  },
  {
   "cell_type": "code",
   "execution_count": null,
   "metadata": {},
   "outputs": [],
   "source": [
    "from bofire.benchmarks.multi import DTLZ2\n",
    "import bofire.strategies.mapper as strategy_mapper\n",
    "\n",
    "benchmark = DTLZ2(dim=2, num_objectives=2)\n",
    "\n",
    "samples = benchmark.domain.inputs.sample(10)\n",
    "experiments = benchmark.f(samples, return_complete=True)"
   ]
  },
  {
   "cell_type": "code",
   "execution_count": null,
   "metadata": {},
   "outputs": [],
   "source": [
    "enting_strategy_data_model = EntingStrategy(\n",
    "    domain=benchmark.domain,\n",
    "    dist_metric=\"l1\",\n",
    "    acq_sense=\"exploration\",\n",
    "    solver_name=\"gurobi\",\n",
    "    solver_verbose=False,\n",
    "    kappa_fantasy=1.96\n",
    ")\n",
    "\n",
    "enting_strategy = strategy_mapper.map(enting_strategy_data_model)\n",
    "\n",
    "enting_strategy.tell(experiments=experiments)\n",
    "enting_strategy.ask(candidate_count=1)"
   ]
  },
  {
   "cell_type": "markdown",
   "metadata": {},
   "source": [
    "## Maximize single objective"
   ]
  },
  {
   "cell_type": "code",
   "execution_count": null,
   "metadata": {},
   "outputs": [],
   "source": [
    "from bofire.benchmarks.single import Ackley\n",
    "\n",
    "benchmark = Ackley()\n",
    "\n",
    "samples = benchmark.domain.inputs.sample(10)\n",
    "experiments = benchmark.f(samples, return_complete=True)"
   ]
  },
  {
   "cell_type": "code",
   "execution_count": null,
   "metadata": {},
   "outputs": [],
   "source": [
    "enting_strategy_data_model = EntingStrategy(\n",
    "    domain=benchmark.domain,\n",
    "    dist_metric=\"l1\",\n",
    "    acq_sense=\"exploration\",\n",
    "    solver_name=\"gurobi\",\n",
    "    solver_verbose=False,\n",
    "    kappa_fantasy=1.96\n",
    ")\n",
    "enting_strategy = strategy_mapper.map(enting_strategy_data_model)\n",
    "\n",
    "enting_strategy.tell(experiments=experiments)\n",
    "enting_strategy.ask(candidate_count=1)"
   ]
  }
 ],
 "metadata": {
  "kernelspec": {
   "display_name": "venv",
   "language": "python",
   "name": "python3"
  },
  "language_info": {
   "codemirror_mode": {
    "name": "ipython",
    "version": 3
   },
   "file_extension": ".py",
   "mimetype": "text/x-python",
   "name": "python",
   "nbconvert_exporter": "python",
   "pygments_lexer": "ipython3",
   "version": "3.10.11"
  },
  "orig_nbformat": 4
 },
 "nbformat": 4,
 "nbformat_minor": 2
}
