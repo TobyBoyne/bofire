{
 "cells": [
  {
   "cell_type": "markdown",
   "metadata": {},
   "source": [
    "# Demonstration of the Entmoot API\n",
    "\n",
    "This notebook includes comparisons of the Entmoot strategy to other Bofire \n",
    "strategies."
   ]
  },
  {
   "cell_type": "markdown",
   "metadata": {},
   "source": [
    "## Single objective Bayesian Optimization strategy\n",
    "\n",
    "This section includes a comparison to the Sobo strategy given in the \"Getting \n",
    "Started\" docs. The API is identical, with additional options given to the \n",
    "data model. Note that the EntingStrategy only supports one candidate, as \n",
    "each generated candidate is optimal (so generating multiple would generate \n",
    "duplicates)."
   ]
  },
  {
   "cell_type": "code",
   "execution_count": 1,
   "metadata": {},
   "outputs": [
    {
     "name": "stderr",
     "output_type": "stream",
     "text": [
      "c:\\users\\tobyb\\phd\\bofire\\bofire\\utils\\cheminformatics.py:19: UserWarning: mordred not installed. Mordred molecular descriptors cannot be used.\n",
      "  warnings.warn(\n",
      "c:\\users\\tobyb\\phd\\bofire\\bofire\\surrogates\\xgb.py:12: UserWarning: xgboost not installed, BoFire's `XGBoostSurrogate` cannot be used.\n",
      "  warnings.warn(\"xgboost not installed, BoFire's `XGBoostSurrogate` cannot be used.\")\n"
     ]
    }
   ],
   "source": [
    "from bofire.benchmarks.single import Himmelblau\n",
    "import bofire.strategies.mapper as strategy_mapper\n",
    "\n",
    "benchmark = Himmelblau()\n",
    "\n",
    "samples = benchmark.domain.inputs.sample(10)\n",
    "experiments = benchmark.f(samples, return_complete=True)"
   ]
  },
  {
   "cell_type": "code",
   "execution_count": 8,
   "metadata": {},
   "outputs": [
    {
     "data": {
      "text/html": [
       "<div>\n",
       "<style scoped>\n",
       "    .dataframe tbody tr th:only-of-type {\n",
       "        vertical-align: middle;\n",
       "    }\n",
       "\n",
       "    .dataframe tbody tr th {\n",
       "        vertical-align: top;\n",
       "    }\n",
       "\n",
       "    .dataframe thead th {\n",
       "        text-align: right;\n",
       "    }\n",
       "</style>\n",
       "<table border=\"1\" class=\"dataframe\">\n",
       "  <thead>\n",
       "    <tr style=\"text-align: right;\">\n",
       "      <th></th>\n",
       "      <th>x_1</th>\n",
       "      <th>x_2</th>\n",
       "      <th>y_pred</th>\n",
       "      <th>y_sd</th>\n",
       "      <th>y_des</th>\n",
       "    </tr>\n",
       "  </thead>\n",
       "  <tbody>\n",
       "    <tr>\n",
       "      <th>0</th>\n",
       "      <td>-2.89257</td>\n",
       "      <td>1.616752</td>\n",
       "      <td>95.211661</td>\n",
       "      <td>136.329898</td>\n",
       "      <td>-95.211661</td>\n",
       "    </tr>\n",
       "  </tbody>\n",
       "</table>\n",
       "</div>"
      ],
      "text/plain": [
       "       x_1       x_2     y_pred        y_sd      y_des\n",
       "0 -2.89257  1.616752  95.211661  136.329898 -95.211661"
      ]
     },
     "execution_count": 8,
     "metadata": {},
     "output_type": "execute_result"
    }
   ],
   "source": [
    "from bofire.data_models.strategies.api import SoboStrategy\n",
    "from bofire.data_models.acquisition_functions.api import qNEI\n",
    "\n",
    "sobo_strategy_data_model = SoboStrategy(domain=benchmark.domain, acquisition_function=qNEI())\n",
    "sobo_strategy = strategy_mapper.map(sobo_strategy_data_model)\n",
    "\n",
    "sobo_strategy.tell(experiments=experiments)\n",
    "sobo_strategy.ask(candidate_count=2)\n"
   ]
  },
  {
   "cell_type": "code",
   "execution_count": 2,
   "metadata": {},
   "outputs": [
    {
     "name": "stderr",
     "output_type": "stream",
     "text": [
      "C:\\Users\\tobyb\\phd\\entmoot\\entmoot\\models\\mean_models\\tree_ensemble.py:23: UserWarning: No 'train_params' for tree ensemble training specified. Switch training to default params!\n",
      "  warnings.warn(\n"
     ]
    },
    {
     "name": "stdout",
     "output_type": "stream",
     "text": [
      "a> []\n",
      "b> []\n",
      "a> []\n",
      "b> []\n",
      "a> []\n",
      "b> []\n",
      "a> []\n",
      "b> []\n",
      "a> []\n",
      "b> []\n",
      "a> []\n"
     ]
    },
    {
     "data": {
      "text/html": [
       "<div>\n",
       "<style scoped>\n",
       "    .dataframe tbody tr th:only-of-type {\n",
       "        vertical-align: middle;\n",
       "    }\n",
       "\n",
       "    .dataframe tbody tr th {\n",
       "        vertical-align: top;\n",
       "    }\n",
       "\n",
       "    .dataframe thead th {\n",
       "        text-align: right;\n",
       "    }\n",
       "</style>\n",
       "<table border=\"1\" class=\"dataframe\">\n",
       "  <thead>\n",
       "    <tr style=\"text-align: right;\">\n",
       "      <th></th>\n",
       "      <th>x_1</th>\n",
       "      <th>x_2</th>\n",
       "      <th>y_pred</th>\n",
       "      <th>y_sd</th>\n",
       "      <th>y_des</th>\n",
       "    </tr>\n",
       "  </thead>\n",
       "  <tbody>\n",
       "    <tr>\n",
       "      <th>0</th>\n",
       "      <td>6.00000</td>\n",
       "      <td>0.000000</td>\n",
       "      <td>160.939420</td>\n",
       "      <td>0.464808</td>\n",
       "      <td>-160.939420</td>\n",
       "    </tr>\n",
       "    <tr>\n",
       "      <th>0</th>\n",
       "      <td>5.65832</td>\n",
       "      <td>-1.388620</td>\n",
       "      <td>161.098815</td>\n",
       "      <td>0.268507</td>\n",
       "      <td>-161.098815</td>\n",
       "    </tr>\n",
       "    <tr>\n",
       "      <th>0</th>\n",
       "      <td>5.48748</td>\n",
       "      <td>-0.523470</td>\n",
       "      <td>161.139054</td>\n",
       "      <td>0.207765</td>\n",
       "      <td>-161.139054</td>\n",
       "    </tr>\n",
       "    <tr>\n",
       "      <th>0</th>\n",
       "      <td>6.00000</td>\n",
       "      <td>-0.870625</td>\n",
       "      <td>158.476108</td>\n",
       "      <td>0.189261</td>\n",
       "      <td>-158.476108</td>\n",
       "    </tr>\n",
       "    <tr>\n",
       "      <th>0</th>\n",
       "      <td>2.33895</td>\n",
       "      <td>-0.830720</td>\n",
       "      <td>176.175154</td>\n",
       "      <td>0.274093</td>\n",
       "      <td>-176.175154</td>\n",
       "    </tr>\n",
       "  </tbody>\n",
       "</table>\n",
       "</div>"
      ],
      "text/plain": [
       "       x_1       x_2      y_pred      y_sd       y_des\n",
       "0  6.00000  0.000000  160.939420  0.464808 -160.939420\n",
       "0  5.65832 -1.388620  161.098815  0.268507 -161.098815\n",
       "0  5.48748 -0.523470  161.139054  0.207765 -161.139054\n",
       "0  6.00000 -0.870625  158.476108  0.189261 -158.476108\n",
       "0  2.33895 -0.830720  176.175154  0.274093 -176.175154"
      ]
     },
     "execution_count": 2,
     "metadata": {},
     "output_type": "execute_result"
    }
   ],
   "source": [
    "from bofire.data_models.strategies.api import EntingStrategy\n",
    "\n",
    "enting_params = {\"unc_params\": {\"dist_metric\": \"l1\", \"acq_sense\": \"exploration\"}}\n",
    "solver_params = {\"solver_name\": \"gurobi\"}\n",
    "\n",
    "enting_strategy_data_model = EntingStrategy(domain=benchmark.domain, enting_params=enting_params, solver_params=solver_params,\n",
    "                                            learn_from_candidates_coeff=-10.0)\n",
    "enting_strategy = strategy_mapper.map(enting_strategy_data_model)\n",
    "\n",
    "enting_strategy.tell(experiments=experiments)\n",
    "enting_strategy.ask(candidate_count=5)"
   ]
  },
  {
   "cell_type": "markdown",
   "metadata": {},
   "source": [
    "When `candidate_count > 1`, the strategy will fit to each candidate in order to produce the next candidate. This means that sequential calls to `EntingStrategy.ask()` will tend to converge as the number of generated candidates (or \"phantom\" datapoints) exceeds the size of the training data."
   ]
  },
  {
   "cell_type": "code",
   "execution_count": 12,
   "metadata": {},
   "outputs": [
    {
     "data": {
      "text/html": [
       "<div>\n",
       "<style scoped>\n",
       "    .dataframe tbody tr th:only-of-type {\n",
       "        vertical-align: middle;\n",
       "    }\n",
       "\n",
       "    .dataframe tbody tr th {\n",
       "        vertical-align: top;\n",
       "    }\n",
       "\n",
       "    .dataframe thead th {\n",
       "        text-align: right;\n",
       "    }\n",
       "</style>\n",
       "<table border=\"1\" class=\"dataframe\">\n",
       "  <thead>\n",
       "    <tr style=\"text-align: right;\">\n",
       "      <th></th>\n",
       "      <th>x_1</th>\n",
       "      <th>x_2</th>\n",
       "      <th>y_pred</th>\n",
       "      <th>y_sd</th>\n",
       "      <th>y_des</th>\n",
       "    </tr>\n",
       "  </thead>\n",
       "  <tbody>\n",
       "    <tr>\n",
       "      <th>0</th>\n",
       "      <td>6.00000</td>\n",
       "      <td>4.706701</td>\n",
       "      <td>25.869349</td>\n",
       "      <td>0.062000</td>\n",
       "      <td>-25.869349</td>\n",
       "    </tr>\n",
       "    <tr>\n",
       "      <th>0</th>\n",
       "      <td>5.94493</td>\n",
       "      <td>4.592220</td>\n",
       "      <td>27.104200</td>\n",
       "      <td>0.056751</td>\n",
       "      <td>-27.104200</td>\n",
       "    </tr>\n",
       "    <tr>\n",
       "      <th>0</th>\n",
       "      <td>5.93575</td>\n",
       "      <td>4.858930</td>\n",
       "      <td>26.214987</td>\n",
       "      <td>0.071944</td>\n",
       "      <td>-26.214987</td>\n",
       "    </tr>\n",
       "    <tr>\n",
       "      <th>0</th>\n",
       "      <td>6.00000</td>\n",
       "      <td>4.612508</td>\n",
       "      <td>25.935602</td>\n",
       "      <td>0.056035</td>\n",
       "      <td>-25.935602</td>\n",
       "    </tr>\n",
       "    <tr>\n",
       "      <th>0</th>\n",
       "      <td>5.98165</td>\n",
       "      <td>4.752829</td>\n",
       "      <td>25.892338</td>\n",
       "      <td>0.051832</td>\n",
       "      <td>-25.892338</td>\n",
       "    </tr>\n",
       "  </tbody>\n",
       "</table>\n",
       "</div>"
      ],
      "text/plain": [
       "       x_1       x_2     y_pred      y_sd      y_des\n",
       "0  6.00000  4.706701  25.869349  0.062000 -25.869349\n",
       "0  5.94493  4.592220  27.104200  0.056751 -27.104200\n",
       "0  5.93575  4.858930  26.214987  0.071944 -26.214987\n",
       "0  6.00000  4.612508  25.935602  0.056035 -25.935602\n",
       "0  5.98165  4.752829  25.892338  0.051832 -25.892338"
      ]
     },
     "execution_count": 12,
     "metadata": {},
     "output_type": "execute_result"
    }
   ],
   "source": [
    "enting_strategy.ask(candidate_count=5)"
   ]
  },
  {
   "cell_type": "markdown",
   "metadata": {},
   "source": [
    "## Multi Objective BO"
   ]
  },
  {
   "cell_type": "code",
   "execution_count": 4,
   "metadata": {},
   "outputs": [],
   "source": [
    "from bofire.benchmarks.multi import DTLZ2\n",
    "import bofire.strategies.mapper as strategy_mapper\n",
    "\n",
    "benchmark = DTLZ2(dim=2, num_objectives=2)\n",
    "\n",
    "samples = benchmark.domain.inputs.sample(10)\n",
    "experiments = benchmark.f(samples, return_complete=True)"
   ]
  },
  {
   "cell_type": "code",
   "execution_count": 5,
   "metadata": {},
   "outputs": [
    {
     "name": "stderr",
     "output_type": "stream",
     "text": [
      "C:\\Users\\tobyb\\phd\\entmoot\\entmoot\\models\\mean_models\\tree_ensemble.py:23: UserWarning: No 'train_params' for tree ensemble training specified. Switch training to default params!\n",
      "  warnings.warn(\n"
     ]
    },
    {
     "data": {
      "text/html": [
       "<div>\n",
       "<style scoped>\n",
       "    .dataframe tbody tr th:only-of-type {\n",
       "        vertical-align: middle;\n",
       "    }\n",
       "\n",
       "    .dataframe tbody tr th {\n",
       "        vertical-align: top;\n",
       "    }\n",
       "\n",
       "    .dataframe thead th {\n",
       "        text-align: right;\n",
       "    }\n",
       "</style>\n",
       "<table border=\"1\" class=\"dataframe\">\n",
       "  <thead>\n",
       "    <tr style=\"text-align: right;\">\n",
       "      <th></th>\n",
       "      <th>x_0</th>\n",
       "      <th>x_1</th>\n",
       "      <th>f_0_pred</th>\n",
       "      <th>f_1_pred</th>\n",
       "      <th>f_0_sd</th>\n",
       "      <th>f_1_sd</th>\n",
       "      <th>f_0_des</th>\n",
       "      <th>f_1_des</th>\n",
       "    </tr>\n",
       "  </thead>\n",
       "  <tbody>\n",
       "    <tr>\n",
       "      <th>0</th>\n",
       "      <td>0.0</td>\n",
       "      <td>1.0</td>\n",
       "      <td>0.989465</td>\n",
       "      <td>0.191064</td>\n",
       "      <td>0.573843</td>\n",
       "      <td>0.573843</td>\n",
       "      <td>-0.989465</td>\n",
       "      <td>-0.191064</td>\n",
       "    </tr>\n",
       "  </tbody>\n",
       "</table>\n",
       "</div>"
      ],
      "text/plain": [
       "   x_0  x_1  f_0_pred  f_1_pred    f_0_sd    f_1_sd   f_0_des   f_1_des\n",
       "0  0.0  1.0  0.989465  0.191064  0.573843  0.573843 -0.989465 -0.191064"
      ]
     },
     "execution_count": 5,
     "metadata": {},
     "output_type": "execute_result"
    }
   ],
   "source": [
    "enting_params = {\"unc_params\": {\"dist_metric\": \"l1\", \"acq_sense\": \"exploration\"}}\n",
    "solver_params = {\"solver_name\": \"gurobi\"}\n",
    "\n",
    "enting_strategy_data_model = EntingStrategy(domain=benchmark.domain, enting_params=enting_params, solver_params=solver_params)\n",
    "enting_strategy = strategy_mapper.map(enting_strategy_data_model)\n",
    "\n",
    "enting_strategy.tell(experiments=experiments)\n",
    "enting_strategy.ask(candidate_count=1)"
   ]
  },
  {
   "cell_type": "markdown",
   "metadata": {},
   "source": [
    "## Maximize single objective"
   ]
  },
  {
   "cell_type": "code",
   "execution_count": 6,
   "metadata": {},
   "outputs": [],
   "source": [
    "from bofire.benchmarks.single import Ackley\n",
    "\n",
    "benchmark = Ackley()\n",
    "\n",
    "samples = benchmark.domain.inputs.sample(10)\n",
    "experiments = benchmark.f(samples, return_complete=True)"
   ]
  },
  {
   "cell_type": "code",
   "execution_count": 7,
   "metadata": {},
   "outputs": [
    {
     "name": "stderr",
     "output_type": "stream",
     "text": [
      "C:\\Users\\tobyb\\phd\\entmoot\\entmoot\\models\\mean_models\\tree_ensemble.py:23: UserWarning: No 'train_params' for tree ensemble training specified. Switch training to default params!\n",
      "  warnings.warn(\n"
     ]
    },
    {
     "data": {
      "text/html": [
       "<div>\n",
       "<style scoped>\n",
       "    .dataframe tbody tr th:only-of-type {\n",
       "        vertical-align: middle;\n",
       "    }\n",
       "\n",
       "    .dataframe tbody tr th {\n",
       "        vertical-align: top;\n",
       "    }\n",
       "\n",
       "    .dataframe thead th {\n",
       "        text-align: right;\n",
       "    }\n",
       "</style>\n",
       "<table border=\"1\" class=\"dataframe\">\n",
       "  <thead>\n",
       "    <tr style=\"text-align: right;\">\n",
       "      <th></th>\n",
       "      <th>x_1</th>\n",
       "      <th>x_2</th>\n",
       "      <th>y_pred</th>\n",
       "      <th>y_sd</th>\n",
       "      <th>y_des</th>\n",
       "    </tr>\n",
       "  </thead>\n",
       "  <tbody>\n",
       "    <tr>\n",
       "      <th>0</th>\n",
       "      <td>-8.26237</td>\n",
       "      <td>32.768</td>\n",
       "      <td>19.802305</td>\n",
       "      <td>0.422772</td>\n",
       "      <td>-19.802305</td>\n",
       "    </tr>\n",
       "  </tbody>\n",
       "</table>\n",
       "</div>"
      ],
      "text/plain": [
       "       x_1     x_2     y_pred      y_sd      y_des\n",
       "0 -8.26237  32.768  19.802305  0.422772 -19.802305"
      ]
     },
     "execution_count": 7,
     "metadata": {},
     "output_type": "execute_result"
    }
   ],
   "source": [
    "enting_params = {\"unc_params\": {\"dist_metric\": \"l1\", \"acq_sense\": \"exploration\"}}\n",
    "solver_params = {\"solver_name\": \"gurobi\"}\n",
    "\n",
    "enting_strategy_data_model = EntingStrategy(domain=benchmark.domain, enting_params=enting_params, solver_params=solver_params)\n",
    "enting_strategy = strategy_mapper.map(enting_strategy_data_model)\n",
    "\n",
    "enting_strategy.tell(experiments=experiments)\n",
    "enting_strategy.ask(candidate_count=1)"
   ]
  },
  {
   "cell_type": "markdown",
   "metadata": {},
   "source": [
    "## Compare domain to problem config\n",
    "\n",
    "BoFire defines its problems using Domains, whereas ENTMOOT uses ProblemConfigs. \n",
    "This demonstrates the conversion from Domain to ProblemConfig, using the multi \n",
    "objective categorical problem defined in the ENTMOOT benchmark."
   ]
  },
  {
   "cell_type": "code",
   "execution_count": 8,
   "metadata": {},
   "outputs": [],
   "source": [
    "from bofire.data_models.domain.api import Domain, Inputs, Outputs\n",
    "from bofire.data_models.features.api import (\n",
    "    CategoricalInput,\n",
    "    ContinuousInput,\n",
    "    DiscreteInput,\n",
    "    ContinuousOutput,\n",
    ")\n",
    "from bofire.data_models.objectives.api import MinimizeObjective\n",
    "\n",
    "\n",
    "def build_multi_obj_categorical_problem(n_obj: int = 2, no_cat=False) -> Domain:\n",
    "    \"\"\"\n",
    "    Builds a small test example which is used in Entmoot tests.\n",
    "    \"\"\"\n",
    "\n",
    "    cat_feat = (\n",
    "        []\n",
    "        if no_cat\n",
    "        else [CategoricalInput(key=\"x0\", categories=(\"blue\", \"orange\", \"gray\"))]\n",
    "    )\n",
    "    input_features = Inputs(\n",
    "        features=cat_feat\n",
    "        + [\n",
    "            DiscreteInput(key=\"x1\", values=[5, 6]),\n",
    "            DiscreteInput(key=\"x2\", values=[0, 1]),  # binary\n",
    "            ContinuousInput(key=\"x3\", bounds=[5.0, 6.0]),\n",
    "            ContinuousInput(key=\"x4\", bounds=[4.6, 6.0]),\n",
    "            ContinuousInput(key=\"x5\", bounds=[5.0, 6.0]),\n",
    "        ]\n",
    "    )\n",
    "\n",
    "    output_features = Outputs(\n",
    "        features=[\n",
    "            ContinuousOutput(\n",
    "                key=f\"y{i}\", objective=MinimizeObjective(w=1.0, bounds=[0.0, 1.0])\n",
    "            )\n",
    "            for i in range(n_obj)\n",
    "        ]\n",
    "    )\n",
    "\n",
    "    domain = Domain(inputs=input_features, outputs=output_features)\n",
    "\n",
    "    return domain\n"
   ]
  },
  {
   "cell_type": "code",
   "execution_count": 9,
   "metadata": {},
   "outputs": [
    {
     "name": "stdout",
     "output_type": "stream",
     "text": [
      "\n",
      "PROBLEM SUMMARY\n",
      "---------------\n",
      "features:\n",
      "x0 :: Categorical :: ('blue', 'orange', 'gray') \n",
      "x1 :: Integer :: (5, 6) \n",
      "x2 :: Binary :: (0, 1) \n",
      "x3 :: Real :: (5.0, 6.0) \n",
      "x4 :: Real :: (4.6, 6.0) \n",
      "x5 :: Real :: (5.0, 6.0) \n",
      "\n",
      "objectives:\n",
      "y0 :: MinObjective\n",
      "y1 :: MinObjective \n",
      " \n",
      "PROBLEM SUMMARY\n",
      "---------------\n",
      "features:\n",
      "feat_0 :: Categorical :: ('blue', 'orange', 'gray') \n",
      "feat_1 :: Integer :: (5, 6) \n",
      "feat_2 :: Binary :: (0, 1) \n",
      "feat_3 :: Real :: (5.0, 6.0) \n",
      "feat_4 :: Real :: (4.6, 6.0) \n",
      "feat_5 :: Real :: (5.0, 6.0) \n",
      "\n",
      "objectives:\n",
      "obj_0 :: MinObjective\n",
      "obj_1 :: MinObjective\n"
     ]
    }
   ],
   "source": [
    "from bofire.utils.entmoot import domain_to_problem_config\n",
    "import entmoot.benchmarks as ent\n",
    "from entmoot.problem_config import ProblemConfig\n",
    "\n",
    "domain = build_multi_obj_categorical_problem()\n",
    "problem_config, _ = domain_to_problem_config(domain)\n",
    "problem_config_ent = ProblemConfig()\n",
    "ent.build_multi_obj_categorical_problem(problem_config_ent)\n",
    "\n",
    "print(problem_config, \"\\n\", problem_config_ent)"
   ]
  }
 ],
 "metadata": {
  "kernelspec": {
   "display_name": "venv",
   "language": "python",
   "name": "python3"
  },
  "language_info": {
   "codemirror_mode": {
    "name": "ipython",
    "version": 3
   },
   "file_extension": ".py",
   "mimetype": "text/x-python",
   "name": "python",
   "nbconvert_exporter": "python",
   "pygments_lexer": "ipython3",
   "version": "3.9.9"
  },
  "orig_nbformat": 4
 },
 "nbformat": 4,
 "nbformat_minor": 2
}
